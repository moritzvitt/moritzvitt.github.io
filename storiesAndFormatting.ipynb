{
 "cells": [
  {
   "cell_type": "markdown",
   "metadata": {},
   "source": [
    "# stories + formatting"
   ]
  },
  {
   "cell_type": "code",
   "execution_count": null,
   "metadata": {},
   "outputs": [],
   "source": [
    "def findSynonyms(synonyms, tags, word, usage_x):\n",
    "    if tags in italianBooks: \n",
    "        messages = [\n",
    "            {\"role\": \"user\", \"content\": \n",
    "            f\"Fornisci una breve spiegazione di '{word}' in base al contesto di '{word}' in '{usage_x}'.\\\n",
    "            Siate molto concisi! Voglio che la spiegazione sia diversa da '{synonyms}'. Restituire solo la spiegazione\\\n",
    "            senza ulteriori informazioni non necessarie.\\\n",
    "            Restituire la spiegazione nella forma '{word}: spiegazione.'\"}\n",
    "        ]\n",
    "      \n",
    "    response = openai.ChatCompletion.create(\n",
    "        model=\"gpt-3.5-turbo-16k\",\n",
    "        messages=messages,\n",
    "        max_tokens=400,\n",
    "        #temperature=0.5\n",
    "    )\n",
    "\n",
    "    hint = response.choices[0].message[\"content\"]\n",
    "    print(hint) \n",
    "    \n",
    "    return hint\n",
    "\n",
    "dfa[\"hint\"] = dfa.apply(lambda row: findSynonyms(row[\"synonyms\"], row[\"tags\"], row[\"word\"], row[\"usage_x\"]), axis=1)"
   ]
  },
  {
   "cell_type": "code",
   "execution_count": 27,
   "metadata": {},
   "outputs": [
    {
     "name": "stdout",
     "output_type": "stream",
     "text": [
      "<span class=\"tooltip\">C'era <span class=\"tooltiptext\">dinosaur</span></span><span class=\"tooltip\">una <span class=\"tooltiptext\">dinosaur</span></span><span class=\"tooltip\">volta <span class=\"tooltiptext\">dinosaur</span></span><span class=\"tooltip\">un <span class=\"tooltiptext\">dinosaur</span></span><span class=\"tooltip\">piccolo <span class=\"tooltiptext\">dinosaur</span></span><span class=\"tooltip\">paese <span class=\"tooltiptext\">dinosaur</span></span><span class=\"tooltip\">in <span class=\"tooltiptext\">dinosaur</span></span><span class=\"tooltip\">una <span class=\"tooltiptext\">dinosaur</span></span><span class=\"tooltip\">valle <span class=\"tooltiptext\">dinosaur</span></span><span class=\"tooltip\">verde <span class=\"tooltiptext\">dinosaur</span></span><span class=\"tooltip\">circondata <span class=\"tooltiptext\">dinosaur</span></span><span class=\"tooltip\">da <span class=\"tooltiptext\">dinosaur</span></span><span class=\"tooltip\">montagne <span class=\"tooltiptext\">dinosaur</span></span><span class=\"tooltip\">imponenti. <span class=\"tooltiptext\">dinosaur</span></span><span class=\"tooltip\">In <span class=\"tooltiptext\">dinosaur</span></span><span class=\"tooltip\">questo <span class=\"tooltiptext\">dinosaur</span></span><span class=\"tooltip\">tranquillo <span class=\"tooltiptext\">dinosaur</span></span><span class=\"tooltip\">villaggio <span class=\"tooltiptext\">dinosaur</span></span><span class=\"tooltip\">viveva <span class=\"tooltiptext\">dinosaur</span></span><span class=\"tooltip\">un <span class=\"tooltiptext\">dinosaur</span></span><span class=\"tooltip\">giovane <span class=\"tooltiptext\">dinosaur</span></span><span class=\"tooltip\">pastore <span class=\"tooltiptext\">dinosaur</span></span><span class=\"tooltip\">di <span class=\"tooltiptext\">dinosaur</span></span><span class=\"tooltip\">nome <span class=\"tooltiptext\">dinosaur</span></span><span class=\"tooltip\">Luca. <span class=\"tooltiptext\">dinosaur</span></span><span class=\"tooltip\">Luca <span class=\"tooltiptext\">dinosaur</span></span><span class=\"tooltip\">amava <span class=\"tooltiptext\">dinosaur</span></span><span class=\"tooltip\">trascorrere <span class=\"tooltiptext\">dinosaur</span></span><span class=\"tooltip\">le <span class=\"tooltiptext\">dinosaur</span></span><span class=\"tooltip\">sue <span class=\"tooltiptext\">dinosaur</span></span><span class=\"tooltip\">giornate <span class=\"tooltiptext\">dinosaur</span></span><span class=\"tooltip\">pascolando <span class=\"tooltiptext\">dinosaur</span></span><span class=\"tooltip\">le <span class=\"tooltiptext\">dinosaur</span></span><span class=\"tooltip\">pecore <span class=\"tooltiptext\">dinosaur</span></span><span class=\"tooltip\">sulle <span class=\"tooltiptext\">dinosaur</span></span><span class=\"tooltip\">colline. <span class=\"tooltiptext\">dinosaur</span></span>\n"
     ]
    }
   ],
   "source": [
    "import re\n",
    "\n",
    "string = \"C'era una volta un piccolo paese in una valle verde circondata da montagne imponenti. In questo tranquillo villaggio viveva un giovane pastore di nome Luca. Luca amava trascorrere le sue giornate pascolando le pecore sulle colline.\"\n",
    "\n",
    "\n",
    "\n",
    "# Split the string at spaces (blanks)\n",
    "words = re.split(r'\\s+', string)\n",
    "\n",
    "# Create a new string with words wrapped in <div> tags\n",
    "html_string = ''.join(f'<span class=\"tooltip\">{word} <span class=\"tooltiptext\">dinosaur</span></span>' for word in words)\n",
    "\n",
    "# Print the HTML string\n",
    "print(html_string)\n"
   ]
  }
 ],
 "metadata": {
  "kernelspec": {
   "display_name": ".venv",
   "language": "python",
   "name": "python3"
  },
  "language_info": {
   "codemirror_mode": {
    "name": "ipython",
    "version": 3
   },
   "file_extension": ".py",
   "mimetype": "text/x-python",
   "name": "python",
   "nbconvert_exporter": "python",
   "pygments_lexer": "ipython3",
   "version": "3.9.6"
  },
  "orig_nbformat": 4
 },
 "nbformat": 4,
 "nbformat_minor": 2
}
